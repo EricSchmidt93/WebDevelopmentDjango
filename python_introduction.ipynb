{
 "cells": [
  {
   "cell_type": "markdown",
   "metadata": {},
   "source": [
    "# Eine kurze Einführung in die Programmiersprache Python\n",
    "Dieses Jupyter Notebook soll eine Einführung in die wichtigsten Python Befehle, Bibliotheken und Methoden geben. Die Codebeispiele können durch das Makieren der jeweiligen Zelle und anschließendem Drücken der 'Run Cell' Funktion (Str + Enter) ausgeführt werden. \n",
    "\n",
    "Da angenommen wird, dass alle Kursteilnehmer ein Grundverständnis anderer Programmiersprachen besitzen, wird im Folgenden lediglich auf die fundamentalen Unterschiede bei der Verwendung von Python eingegangen.\n",
    "\n",
    "Disclaimer: Die verwendete Python-Version ist Python 3.6 (Python 2 - Shame on you!)\n",
    "\n",
    "**Tipp: Generell können verfügbare Methoden über ``dir(Objekt)`` oder der jeweilige API-Referenzeintrag über ``help(Objekt)`` abgefragt werden:**"
   ]
  },
  {
   "cell_type": "code",
   "execution_count": null,
   "metadata": {
    "collapsed": false
   },
   "outputs": [],
   "source": [
    "List = []\n",
    "\n",
    "print('Selection of objekt methods:\\n')\n",
    "print(dir(List)[:5])\n",
    "print('\\n')\n",
    "print(help(List.pop))"
   ]
  },
  {
   "cell_type": "markdown",
   "metadata": {},
   "source": [
    "## Kapitel I: Variablen Deklaration & Datentypen\n",
    "Variablen müssen bei der Deklaration keinem explizitem Typ zugewiesen werden. Vielmehr erkennt der Interpreter den Datentyp selbst und allokiert dementsprechend Speicher."
   ]
  },
  {
   "cell_type": "code",
   "execution_count": null,
   "metadata": {
    "collapsed": false
   },
   "outputs": [],
   "source": [
    "n = 45\n",
    "print (n + 100)"
   ]
  },
  {
   "cell_type": "code",
   "execution_count": null,
   "metadata": {
    "collapsed": false
   },
   "outputs": [],
   "source": [
    "n = 'Das ist ein Test'\n",
    "print(n)"
   ]
  },
  {
   "cell_type": "markdown",
   "metadata": {},
   "source": [
    "## Kapitel II: Listen, Dictonaries und Numpys\n",
    "Oftmals ist es nötig, Daten innerhalb einer Datenstruktur zu speichern, um einen späteren Zugriff zu erleichtern. Python bietet hierfür unteranderem die Built-In Datenstrukturen List, Dict und Tuple an. Ein weitere weit verbreitete Datenstruktur ist Numpy, welche oft für wissenschaftliche Berechnungen genutzt wird.\n",
    "\n",
    "- List: Entspricht der Datenstruktur **stack** und besitzt unteranderem die Methoden append (vgl. push) und pop. Listen folgend dem LIFO (Last In - First Out) Prinzip.\n",
    "- Dictonaries: Entspricht der **Map** in Java und 'mapped' Schlüsselpaare zu Objekten. \n",
    "- Numpys: Numpy ist eine Bibliothek für performante wissenschaftliche Berechnungen. Unteranderem enthält es die Möglichkeit **Arrays** zu instanzieren. Über numpy.array(Liste) können konfortable Listen in Arrays gecastet werden."
   ]
  },
  {
   "cell_type": "code",
   "execution_count": null,
   "metadata": {
    "collapsed": false
   },
   "outputs": [],
   "source": [
    "List = [1, 2, 3]\n",
    "print(List)"
   ]
  },
  {
   "cell_type": "code",
   "execution_count": null,
   "metadata": {
    "collapsed": false
   },
   "outputs": [],
   "source": [
    "Dictonary = {'Hello': 'Hallo',\n",
    "            'Good': 'Gut',\n",
    "            'Bad': 'Schlecht'}\n",
    "print(Dictonary)"
   ]
  },
  {
   "cell_type": "code",
   "execution_count": null,
   "metadata": {
    "collapsed": false
   },
   "outputs": [],
   "source": [
    "import numpy \n",
    "\n",
    "array = numpy.array([1, 0, 0, 1])\n",
    "print(array)"
   ]
  },
  {
   "cell_type": "markdown",
   "metadata": {},
   "source": [
    "## Kapitel III: Indexierung & Slices\n",
    "Einzelne Elemente innerhalb von Numpys und Listen (und sogar Strings) können durch den Syntax *Variable[index]* ausgewählt werden.\n",
    "Durch Slices können **Elementbereiche** ausgewählt werden, wodurch Datensätze bspw. geteilt werden können. Dabei wird der Anfang und das Ende des Bereiches innerhalb einer eckigen Klammer durch einen Doppelpunkt getrennt: *Variable[start:ende]*. \n",
    "\n",
    "**Tipp: Das letzte Element eines Objektes kann durch ein -1 komfortable indexiert werden.**"
   ]
  },
  {
   "cell_type": "code",
   "execution_count": null,
   "metadata": {
    "collapsed": false
   },
   "outputs": [],
   "source": [
    "List = ['Hallo', 'wie', 'geht', 'es', 'dir', '?']\n",
    "\n",
    "index_element =  List[3]\n",
    "print('Element an Index 3:', index_element)\n",
    "\n",
    "index_element =  List[3:6]\n",
    "print('Elemente im Indexbereich 3 - 6:', index_element)\n",
    "\n",
    "index_element =  List[-1]\n",
    "print('Letzte Element:', index_element)"
   ]
  },
  {
   "cell_type": "markdown",
   "metadata": {},
   "source": [
    "## Kapitel IV: Klassen\n",
    "Klassen verhalten sich in Python wie in jeder anderen objektorientierten Programmiersprache. Es können Attribute und Methoden definiert werden um Modularisierung und Zugriffskontrolle zu erreichen.\n",
    "\n",
    "Syntax\n",
    "- Klassen definition: ``class klassen_namen:``\n",
    "- Methoden definition: ``def methoden_namen(self, Übergabeparameter):``\n",
    "- Konstruktor definition: ``def __init__(self):``\n",
    "\n",
    "**Tipp: Verweise bzw. Aufrufe auf Attribute und Methoden innerhalb einer Klasse müssen immer mit einem expliziten self. referenziert werden. Wird dies nicht gemacht, wird das referenzierte Attribut bzw. die Methode nicht gefunden.**"
   ]
  },
  {
   "cell_type": "code",
   "execution_count": null,
   "metadata": {
    "collapsed": false
   },
   "outputs": [],
   "source": [
    "class Beispiel_Klasse:\n",
    "    def __init__(self, vorname, name):\n",
    "        self.name = name\n",
    "        self.vorname = vorname\n",
    "    def get_full_name(self):\n",
    "        return self.vorname + ' ' + self.name\n",
    "\n",
    "beispiel_klasse = Beispiel_Klasse('Eric', 'Schmidt')\n",
    "print(beispiel_klasse.get_full_name())"
   ]
  },
  {
   "cell_type": "markdown",
   "metadata": {},
   "source": [
    "## Kapitel IV: Methoden\n",
    "Bei der Programmierung von Methoden ist das, von Python vorgegebene, Indent um eine Stelle zu beachten. Wird dies ignoriert wird ein *invalid syntax SyntaxError* ausgegeben. Dies gilt auch für Schleifen und If-Statements und erzwingt einen übersichtlichen Programmierstil.\n",
    "\n",
    "Syntax\n",
    "- ``def methoden_namen(Übergabeparameter):``\n",
    "\n",
    "**Tipp: Methoden können schlank durch sogenannte Lambda Functions dargestellt werden. Dies sorgt jedoch oftmals zu unleserlichen Sourcecode und ist nur bei bestimmten Anforderungen sinnvoll.**"
   ]
  },
  {
   "cell_type": "code",
   "execution_count": null,
   "metadata": {
    "collapsed": false
   },
   "outputs": [],
   "source": [
    "def beispiel_methode(übergabe_parameter):\n",
    "    übergabe_parameter = übergabe_parameter + 100\n",
    "    return übergabe_parameter\n",
    "\n",
    "ergebnis = beispiel_methode(100)\n",
    "print(ergebnis)"
   ]
  },
  {
   "cell_type": "markdown",
   "metadata": {},
   "source": [
    "## Kapitel V: Schleifen \n",
    "Python unterscheidet zwischen zwei Schleifen: **For-Loops** und **While-Loops**. der Syntax beider Schleifenarten ist durch untenstehendes Codebeispiel ersichtlich. \n",
    "\n",
    "Für For-Loops:\n",
    "- Der ``range`` Befehl gibt die Wiederholungszahl der Schleife an.\n",
    "- Auf Elemente multidimensionaler Listen kann durch (dimension_1, dimension_2) einfach zugegriffen werden.\n",
    "\n",
    "**Tipp: Der Befehl enumerate, welchem die Wiederholungsanzahl als Parameter übergeben wird, fügt der Schleife einen Zähler hinzu.**"
   ]
  },
  {
   "cell_type": "code",
   "execution_count": null,
   "metadata": {
    "collapsed": false
   },
   "outputs": [],
   "source": [
    "#Standard For-Loop\n",
    "\n",
    "for i in range(5):\n",
    "    print('For-Loop Iteration', i)"
   ]
  },
  {
   "cell_type": "code",
   "execution_count": null,
   "metadata": {
    "collapsed": false
   },
   "outputs": [],
   "source": [
    "#Objektelement Iteration\n",
    "\n",
    "List = ['Hallo', 'wie', 'geht', 'es', 'dir', '?']\n",
    "\n",
    "for count, wort in enumerate(List):\n",
    "    print('Wort %d: %s' % (count, wort))"
   ]
  },
  {
   "cell_type": "code",
   "execution_count": null,
   "metadata": {
    "collapsed": false
   },
   "outputs": [],
   "source": [
    "#Multidimensionale Objektelement Iteration\n",
    "\n",
    "List = [['Wie','Sehr'], ['gehts','gut']]\n",
    "\n",
    "for (D1, D2) in List:\n",
    "    print('Dimension 1 %s \\t Dimension 2 %s' % (D1, D2))"
   ]
  },
  {
   "cell_type": "code",
   "execution_count": null,
   "metadata": {
    "collapsed": false
   },
   "outputs": [],
   "source": [
    "#Standard While-Loop\n",
    "i = 0\n",
    "while i < 5:\n",
    "    print('While-Loop Iteration', i)\n",
    "    i = i + 1"
   ]
  },
  {
   "cell_type": "markdown",
   "metadata": {},
   "source": [
    "## Kapitel VI: If-Statements\n",
    "Der Syntax der If-Statements folgt den Regeln der bereits vorgestellten Implementierungen."
   ]
  },
  {
   "cell_type": "code",
   "execution_count": null,
   "metadata": {
    "collapsed": false
   },
   "outputs": [],
   "source": [
    "value = True\n",
    "\n",
    "if value:\n",
    "    print('Value == True')\n",
    "else:\n",
    "    print('Value == False')"
   ]
  },
  {
   "cell_type": "markdown",
   "metadata": {},
   "source": [
    "## Kapitel VII: Import von Bibliotheken\n",
    "Ein großer Vorteil von Python ist die einfach Einbindung der vielzähligen Bibliotheken. Installierte Pakete - beispielsweise über PIP - können einfach über ``import bibliothek`` eingebunden werden.\n",
    "\n",
    "**Tipp: Bibliotheken können mit dem Schlüsselwort *as* ein Alias gegeben werden um schlankeren Code zu schreiben.**"
   ]
  },
  {
   "cell_type": "code",
   "execution_count": null,
   "metadata": {
    "collapsed": false
   },
   "outputs": [],
   "source": [
    "import numpy as np\n",
    "\n",
    "np.array([5, 1, 2, 4])"
   ]
  },
  {
   "cell_type": "markdown",
   "metadata": {},
   "source": [
    "## Kapitel VIII: Packages und __init__.py\n",
    "Ordner, welche als Bibliothek bzw. Paket importiert werden können, benötigen eine __init__.py Datei, die den Ordner als Python Package initialisiert."
   ]
  },
  {
   "cell_type": "markdown",
   "metadata": {},
   "source": [
    "# Python Übung: Handschrifterkennung mit sklearn\n",
    "Da ein einfaches Hello Word ein wenig zu gewöhnlich und einfach ist, versuchen wir mithilfe der Data Analysis Bibliothek scikit-learn (oder sklearn) eine automatisierte Erkennung von Handschriftlichen Zahlen zu programmieren. \n",
    "\n",
    "** Versuche durch die oben gelernten Python Werkzeuge, die fehlenden Passagen zu ergänzen und das Programm zum laufen zu bekommen! Ihr könnt euch die Variablen ausgeben lassen, rumspielen und versuchen die gestellten Probleme zu lösen!** "
   ]
  },
  {
   "cell_type": "markdown",
   "metadata": {},
   "source": [
    "### Aufgabe 1\n",
    "Der erste Programmteil importiert die Bibliotheken und läd den Datensatz mit den handschriftlichen Zahlen in den Speicher. Die Zeile ``images_and_labels = list(zip(digits.images, digits.target))`` schreibt die numerische repräsentation der handschriftlichen Bilder, sowie das zugehörige Label (Die Nummer der dargestellten Zahl) in die Liste images_and_labels. \n",
    "\n",
    "Aufgabe: Schreibe eine **For-Loop**, welche die **ersten 6 Elemente aus dem Datensatz images_and_labels** mit deren zugehörigen Labels darstellt. Rufe dazu in der geschriebenen Schleife die Methode **plot_data(index, image, label)** auf. Die Methode benötigt folgende Parameter:\n",
    "\n",
    "- index: Der Index der aktuellen Iteration\n",
    "- image: die Bilddaten des aktuellen Elements aus der ersten Dimension der Liste images_and_labels\n",
    "- label: Die Labeldaten des aktuellen Elements aus der zweiten Dimension der Liste images_and_labels"
   ]
  },
  {
   "cell_type": "code",
   "execution_count": null,
   "metadata": {
    "collapsed": false
   },
   "outputs": [],
   "source": [
    "import matplotlib.pyplot as plt\n",
    "from sklearn import datasets, svm, metrics\n",
    "\n",
    "# Lade den Datensatz\n",
    "digits = datasets.load_digits()\n",
    "\n",
    "# Erstelle die multidimensionale Liste images_and_labels. \n",
    "# Die erste Dimension beinhaltet die numerische Repräsenation des Bildes, \n",
    "# die zweite Dimension das zugehörige Label\n",
    "images_and_labels = list(zip(digits.images, digits.target))"
   ]
  },
  {
   "cell_type": "code",
   "execution_count": null,
   "metadata": {
    "collapsed": true
   },
   "outputs": [],
   "source": [
    "def plot_data(index, image, label):\n",
    "    plt.subplot(2, 3, index + 1)\n",
    "    plt.axis('off')\n",
    "    plt.imshow(image, cmap=plt.cm.gray_r, interpolation='nearest')\n",
    "    plt.title('Training Data: %i' % label)"
   ]
  },
  {
   "cell_type": "code",
   "execution_count": null,
   "metadata": {
    "collapsed": true
   },
   "outputs": [],
   "source": [
    "# Plotte die ersten 6 Zahlen des Datensatzes\n",
    "\"\"\" \n",
    "ERGÄNZEN  \n",
    "\"\"\""
   ]
  },
  {
   "cell_type": "code",
   "execution_count": null,
   "metadata": {
    "collapsed": false
   },
   "outputs": [],
   "source": [
    "plt.show()"
   ]
  },
  {
   "cell_type": "markdown",
   "metadata": {},
   "source": [
    "### Aufgabe 2\n",
    "Nachdem wir nun wissen wie der Datensatz aussieht, möchten wir einen Algorithmus lernen, welcher die Zahlen erkennt. Dazu trainieren wir ein Model mit der ersten Hälfte der Daten (images & labels) und validieren unser Model mit der anderen Hälfte. \n",
    "\n",
    "Aufgabe: Erstelle die Variablen **img_train, labels_train und img_test**, welche den Datensatz in **zwei gleichgroße Teile trennt** (Benutze hierfür die Variable split_size)."
   ]
  },
  {
   "cell_type": "code",
   "execution_count": null,
   "metadata": {
    "collapsed": true
   },
   "outputs": [],
   "source": [
    "# Anzahl der Samples\n",
    "n_samples = len(digits.images)\n",
    "#Umformen der Bilder für den Algorithmus und zuweisung der Daten auf die Variablen images und labels\n",
    "images = digits.images.reshape((n_samples, -1))\n",
    "labels = digits.target"
   ]
  },
  {
   "cell_type": "code",
   "execution_count": null,
   "metadata": {
    "collapsed": false
   },
   "outputs": [],
   "source": [
    "#Größe des Subsets train und test. Wir müssen den Wert runden, da es zu Fließkommatar kommen kann,\n",
    "#was zu einem Fehler beim Slicen führt.\n",
    "split_size = round((len(images)/2))\n",
    "\n",
    "#Erstelle img_train, labels_train und img_test welche den Datensatz in zwei gleichgroße Teile trennt\n",
    "\"\"\" \n",
    "ERGÄNZEN  \n",
    "\"\"\""
   ]
  },
  {
   "cell_type": "code",
   "execution_count": null,
   "metadata": {
    "collapsed": false
   },
   "outputs": [],
   "source": [
    "# Erstelle das Model und trainiere es mit \n",
    "classifier = svm.SVC(gamma=0.001)\n",
    "classifier.fit(img_train, labels_train)\n",
    "\n",
    "# Now predict the value of the digit on the second half:\n",
    "predicted = classifier.predict(img_test)\n",
    "\n",
    "images_and_predictions = list(zip(digits.images[round(n_samples / 2):], predicted))\n",
    "for i, (img, prediction) in enumerate(images_and_labels[:8]):\n",
    "    plt.subplot(2, 4, i + 1)\n",
    "    plt.axis('off')\n",
    "    plt.imshow(img, cmap=plt.cm.gray_r)\n",
    "    plt.title('Prediction: %i' % prediction)\n",
    "print('Klassifikation von bisher nicht gesehen Zahlen!!')\n",
    "plt.show()"
   ]
  }
 ],
 "metadata": {
  "anaconda-cloud": {},
  "kernelspec": {
   "display_name": "Python [default]",
   "language": "python",
   "name": "python3"
  },
  "language_info": {
   "codemirror_mode": {
    "name": "ipython",
    "version": 3
   },
   "file_extension": ".py",
   "mimetype": "text/x-python",
   "name": "python",
   "nbconvert_exporter": "python",
   "pygments_lexer": "ipython3",
   "version": "3.5.2"
  },
  "widgets": {
   "state": {},
   "version": "1.1.2"
  }
 },
 "nbformat": 4,
 "nbformat_minor": 2
}
